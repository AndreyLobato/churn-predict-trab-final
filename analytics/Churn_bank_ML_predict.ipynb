{
 "cells": [
  {
   "cell_type": "markdown",
   "id": "6b6ac991-dfdd-481b-8ab8-2bf5341c287d",
   "metadata": {},
   "source": [
    "## Projeto de Análise de Churn\n",
    "---\n",
    "\n",
    "Objetivo: Criar um modelo de machine learning que preveja se o cliente saíra ou não do banco.\n",
    "\n"
   ]
  },
  {
   "cell_type": "code",
   "execution_count": 1,
   "id": "dff09184-695c-468d-af41-8dc9fe0fbc62",
   "metadata": {},
   "outputs": [],
   "source": [
    "# Imports\n",
    "\n",
    "import pandas as pd\n",
    "import numpy as np\n",
    "import matplotlib.pyplot as plt\n",
    "import seaborn as sns\n",
    "\n",
    "#preprocessing\n",
    "from sklearn.model_selection import train_test_split, GridSearchCV\n",
    "from sklearn.preprocessing import OneHotEncoder\n",
    "\n",
    "#metrics \n",
    "from sklearn.metrics import accuracy_score\n",
    "from sklearn.metrics import accuracy_score, classification_report, confusion_matrix, roc_curve, auc, ConfusionMatrixDisplay\n",
    "\n",
    "\n",
    "#models\n",
    "from sklearn.linear_model import LogisticRegression\n",
    "from sklearn.naive_bayes import GaussianNB\n",
    "from sklearn.ensemble import RandomForestClassifier, GradientBoostingClassifier, AdaBoostClassifier\n",
    "from sklearn.svm import SVC\n",
    "import xgboost as xgb\n",
    "\n",
    "\n",
    "import warnings \n",
    "warnings.filterwarnings('ignore')"
   ]
  },
  {
   "cell_type": "markdown",
   "id": "40df27c4-1ef7-44e0-8a53-9799f8519f00",
   "metadata": {},
   "source": [
    "### Metadados: \n",
    "---\n",
    "\n",
    "- RowNumber: The sequential number assigned to each row in the dataset.\n",
    "- CustomerId: A unique identifier for each customer.\n",
    "- Surname:The surname of the customer\n",
    "- CreditScore: The credit score of the customer.\n",
    "- Geography: The geographical location of the customer (e.g., country or region).\n",
    "- Gender: The gender of the customer.\n",
    "- Age: The age of the customer.\n",
    "- Tenure: The number of years the customer has been with the bank.\n",
    "- Balance: The account balance of the customer.\n",
    "- NumOfProducts: The number of bank products the customer has.\n",
    "- HasCrCard: Indicates whether the customer has a credit card (binary: yes/no).\n",
    "- IsActiveMember: Indicates whether the customer is an active member (binary: yes/no).\n",
    "- EstimatedSalary: The estimated salary of the customer.\n",
    "- Exited: Indicates whether the customer has exited the bank (binary: yes/no)."
   ]
  },
  {
   "cell_type": "markdown",
   "id": "bd18b541-8c6b-47de-b62d-0474f0c73833",
   "metadata": {
    "jp-MarkdownHeadingCollapsed": true
   },
   "source": [
    "# 1. Análise de Dados."
   ]
  },
  {
   "cell_type": "code",
   "execution_count": 3,
   "id": "a3f7066b-3946-4013-ae9f-f40785506688",
   "metadata": {},
   "outputs": [],
   "source": [
    "# Carregamento da base\n",
    "df = pd.read_csv('../database/Churn_Modelling.csv')"
   ]
  },
  {
   "cell_type": "code",
   "execution_count": 3,
   "id": "77e6c5f5-69ca-475d-9f37-d3b121f6c4de",
   "metadata": {},
   "outputs": [
    {
     "data": {
      "text/html": [
       "<div>\n",
       "<style scoped>\n",
       "    .dataframe tbody tr th:only-of-type {\n",
       "        vertical-align: middle;\n",
       "    }\n",
       "\n",
       "    .dataframe tbody tr th {\n",
       "        vertical-align: top;\n",
       "    }\n",
       "\n",
       "    .dataframe thead th {\n",
       "        text-align: right;\n",
       "    }\n",
       "</style>\n",
       "<table border=\"1\" class=\"dataframe\">\n",
       "  <thead>\n",
       "    <tr style=\"text-align: right;\">\n",
       "      <th></th>\n",
       "      <th>RowNumber</th>\n",
       "      <th>CustomerId</th>\n",
       "      <th>Surname</th>\n",
       "      <th>CreditScore</th>\n",
       "      <th>Geography</th>\n",
       "      <th>Gender</th>\n",
       "      <th>Age</th>\n",
       "      <th>Tenure</th>\n",
       "      <th>Balance</th>\n",
       "      <th>NumOfProducts</th>\n",
       "      <th>HasCrCard</th>\n",
       "      <th>IsActiveMember</th>\n",
       "      <th>EstimatedSalary</th>\n",
       "      <th>Exited</th>\n",
       "    </tr>\n",
       "  </thead>\n",
       "  <tbody>\n",
       "    <tr>\n",
       "      <th>0</th>\n",
       "      <td>1</td>\n",
       "      <td>15634602</td>\n",
       "      <td>Hargrave</td>\n",
       "      <td>619</td>\n",
       "      <td>France</td>\n",
       "      <td>Female</td>\n",
       "      <td>42</td>\n",
       "      <td>2</td>\n",
       "      <td>0.00</td>\n",
       "      <td>1</td>\n",
       "      <td>1</td>\n",
       "      <td>1</td>\n",
       "      <td>101348.88</td>\n",
       "      <td>1</td>\n",
       "    </tr>\n",
       "    <tr>\n",
       "      <th>1</th>\n",
       "      <td>2</td>\n",
       "      <td>15647311</td>\n",
       "      <td>Hill</td>\n",
       "      <td>608</td>\n",
       "      <td>Spain</td>\n",
       "      <td>Female</td>\n",
       "      <td>41</td>\n",
       "      <td>1</td>\n",
       "      <td>83807.86</td>\n",
       "      <td>1</td>\n",
       "      <td>0</td>\n",
       "      <td>1</td>\n",
       "      <td>112542.58</td>\n",
       "      <td>0</td>\n",
       "    </tr>\n",
       "    <tr>\n",
       "      <th>2</th>\n",
       "      <td>3</td>\n",
       "      <td>15619304</td>\n",
       "      <td>Onio</td>\n",
       "      <td>502</td>\n",
       "      <td>France</td>\n",
       "      <td>Female</td>\n",
       "      <td>42</td>\n",
       "      <td>8</td>\n",
       "      <td>159660.80</td>\n",
       "      <td>3</td>\n",
       "      <td>1</td>\n",
       "      <td>0</td>\n",
       "      <td>113931.57</td>\n",
       "      <td>1</td>\n",
       "    </tr>\n",
       "    <tr>\n",
       "      <th>3</th>\n",
       "      <td>4</td>\n",
       "      <td>15701354</td>\n",
       "      <td>Boni</td>\n",
       "      <td>699</td>\n",
       "      <td>France</td>\n",
       "      <td>Female</td>\n",
       "      <td>39</td>\n",
       "      <td>1</td>\n",
       "      <td>0.00</td>\n",
       "      <td>2</td>\n",
       "      <td>0</td>\n",
       "      <td>0</td>\n",
       "      <td>93826.63</td>\n",
       "      <td>0</td>\n",
       "    </tr>\n",
       "    <tr>\n",
       "      <th>4</th>\n",
       "      <td>5</td>\n",
       "      <td>15737888</td>\n",
       "      <td>Mitchell</td>\n",
       "      <td>850</td>\n",
       "      <td>Spain</td>\n",
       "      <td>Female</td>\n",
       "      <td>43</td>\n",
       "      <td>2</td>\n",
       "      <td>125510.82</td>\n",
       "      <td>1</td>\n",
       "      <td>1</td>\n",
       "      <td>1</td>\n",
       "      <td>79084.10</td>\n",
       "      <td>0</td>\n",
       "    </tr>\n",
       "  </tbody>\n",
       "</table>\n",
       "</div>"
      ],
      "text/plain": [
       "   RowNumber  CustomerId   Surname  CreditScore Geography  Gender  Age  \\\n",
       "0          1    15634602  Hargrave          619    France  Female   42   \n",
       "1          2    15647311      Hill          608     Spain  Female   41   \n",
       "2          3    15619304      Onio          502    France  Female   42   \n",
       "3          4    15701354      Boni          699    France  Female   39   \n",
       "4          5    15737888  Mitchell          850     Spain  Female   43   \n",
       "\n",
       "   Tenure    Balance  NumOfProducts  HasCrCard  IsActiveMember  \\\n",
       "0       2       0.00              1          1               1   \n",
       "1       1   83807.86              1          0               1   \n",
       "2       8  159660.80              3          1               0   \n",
       "3       1       0.00              2          0               0   \n",
       "4       2  125510.82              1          1               1   \n",
       "\n",
       "   EstimatedSalary  Exited  \n",
       "0        101348.88       1  \n",
       "1        112542.58       0  \n",
       "2        113931.57       1  \n",
       "3         93826.63       0  \n",
       "4         79084.10       0  "
      ]
     },
     "execution_count": 3,
     "metadata": {},
     "output_type": "execute_result"
    }
   ],
   "source": [
    "df.head()"
   ]
  },
  {
   "cell_type": "code",
   "execution_count": 4,
   "id": "0ed63006-a610-46bf-ad5d-2132e232786e",
   "metadata": {},
   "outputs": [
    {
     "name": "stdout",
     "output_type": "stream",
     "text": [
      "<class 'pandas.core.frame.DataFrame'>\n",
      "RangeIndex: 10000 entries, 0 to 9999\n",
      "Data columns (total 14 columns):\n",
      " #   Column           Non-Null Count  Dtype  \n",
      "---  ------           --------------  -----  \n",
      " 0   RowNumber        10000 non-null  int64  \n",
      " 1   CustomerId       10000 non-null  int64  \n",
      " 2   Surname          10000 non-null  object \n",
      " 3   CreditScore      10000 non-null  int64  \n",
      " 4   Geography        10000 non-null  object \n",
      " 5   Gender           10000 non-null  object \n",
      " 6   Age              10000 non-null  int64  \n",
      " 7   Tenure           10000 non-null  int64  \n",
      " 8   Balance          10000 non-null  float64\n",
      " 9   NumOfProducts    10000 non-null  int64  \n",
      " 10  HasCrCard        10000 non-null  int64  \n",
      " 11  IsActiveMember   10000 non-null  int64  \n",
      " 12  EstimatedSalary  10000 non-null  float64\n",
      " 13  Exited           10000 non-null  int64  \n",
      "dtypes: float64(2), int64(9), object(3)\n",
      "memory usage: 1.1+ MB\n"
     ]
    }
   ],
   "source": [
    "df.info()"
   ]
  },
  {
   "cell_type": "markdown",
   "id": "e6d34e90-0d25-4316-8b1e-312e2274046e",
   "metadata": {},
   "source": [
    "- Sem dados nulos, vide a coluna non-null\n",
    "- Row_number e Customer_id e Surname não parecem ser atributos relevantes para previsão do modelo, pois os 3 são identificadores do Individuo os dois primeiros por serem numeros e os dois ultimos o ultimo por ser o nome. Então são fortes candidatos a exclusão.\n",
    "- Geography e Gender estão como atributos categoricos, então antes de colocar no modelo melhor codificá-los e transformá-los em numérico. "
   ]
  },
  {
   "cell_type": "code",
   "execution_count": 6,
   "id": "84e3f8db-9c62-423e-b241-66f01e14312b",
   "metadata": {},
   "outputs": [
    {
     "data": {
      "text/html": [
       "<div>\n",
       "<style scoped>\n",
       "    .dataframe tbody tr th:only-of-type {\n",
       "        vertical-align: middle;\n",
       "    }\n",
       "\n",
       "    .dataframe tbody tr th {\n",
       "        vertical-align: top;\n",
       "    }\n",
       "\n",
       "    .dataframe thead th {\n",
       "        text-align: right;\n",
       "    }\n",
       "</style>\n",
       "<table border=\"1\" class=\"dataframe\">\n",
       "  <thead>\n",
       "    <tr style=\"text-align: right;\">\n",
       "      <th></th>\n",
       "      <th>RowNumber</th>\n",
       "      <th>CustomerId</th>\n",
       "      <th>Surname</th>\n",
       "      <th>CreditScore</th>\n",
       "      <th>Geography</th>\n",
       "      <th>Gender</th>\n",
       "      <th>Age</th>\n",
       "      <th>Tenure</th>\n",
       "      <th>Balance</th>\n",
       "      <th>NumOfProducts</th>\n",
       "      <th>HasCrCard</th>\n",
       "      <th>IsActiveMember</th>\n",
       "      <th>EstimatedSalary</th>\n",
       "      <th>Exited</th>\n",
       "    </tr>\n",
       "  </thead>\n",
       "  <tbody>\n",
       "  </tbody>\n",
       "</table>\n",
       "</div>"
      ],
      "text/plain": [
       "Empty DataFrame\n",
       "Columns: [RowNumber, CustomerId, Surname, CreditScore, Geography, Gender, Age, Tenure, Balance, NumOfProducts, HasCrCard, IsActiveMember, EstimatedSalary, Exited]\n",
       "Index: []"
      ]
     },
     "execution_count": 6,
     "metadata": {},
     "output_type": "execute_result"
    }
   ],
   "source": [
    "# Verificação de duplicados \n",
    "df[df.duplicated()]"
   ]
  },
  {
   "cell_type": "markdown",
   "id": "7eb1cc1c-b053-4134-af90-ca36dba0716b",
   "metadata": {},
   "source": [
    "- Sem linhas duplicadas!  "
   ]
  },
  {
   "cell_type": "code",
   "execution_count": 13,
   "id": "d9392e9d-7216-4a5c-8411-1877067bacb2",
   "metadata": {},
   "outputs": [
    {
     "data": {
      "text/plain": [
       "Exited\n",
       "0    7963\n",
       "1    2037\n",
       "Name: count, dtype: int64"
      ]
     },
     "execution_count": 13,
     "metadata": {},
     "output_type": "execute_result"
    }
   ],
   "source": [
    "df.Exited.value_counts()"
   ]
  },
  {
   "cell_type": "code",
   "execution_count": 50,
   "id": "25cad660-56e5-441f-b1bd-5bbe6f670ce2",
   "metadata": {},
   "outputs": [
    {
     "data": {
      "text/plain": [
       "Exited\n",
       "0    79.63\n",
       "1    20.37\n",
       "Name: proportion, dtype: float64"
      ]
     },
     "execution_count": 50,
     "metadata": {},
     "output_type": "execute_result"
    }
   ],
   "source": [
    "df.Exited.value_counts(normalize=True)*100"
   ]
  },
  {
   "cell_type": "markdown",
   "id": "1b7c186a-86eb-4169-8a05-9821ccdebc7b",
   "metadata": {},
   "source": [
    "- Ponto de atenção: Classes desbalanceadas, temos muito mais pessoas que saíram do que pessoas que ficaram. Temos que tomar cuidado para que o modelo não preveja sempre que saiu por ser a maioria dos casos na base.  "
   ]
  },
  {
   "cell_type": "markdown",
   "id": "69e6b7fd-2a44-48e3-9cbe-469a8fac9b30",
   "metadata": {},
   "source": [
    "> **Provocação: Será que nessa base temos clientes iguais? Ou seja com mesmo CustomerId?** "
   ]
  },
  {
   "cell_type": "code",
   "execution_count": 14,
   "id": "92b63db5-de47-4f7a-b338-c8940aabd70c",
   "metadata": {},
   "outputs": [
    {
     "data": {
      "text/plain": [
       "10000"
      ]
     },
     "execution_count": 14,
     "metadata": {},
     "output_type": "execute_result"
    }
   ],
   "source": [
    "# verificarndo a quantidade da coluna customerid unicos\n",
    "df.CustomerId.nunique()"
   ]
  },
  {
   "cell_type": "code",
   "execution_count": 20,
   "id": "3e077314-e9e3-451d-bfa2-9fd14cfac128",
   "metadata": {},
   "outputs": [
    {
     "data": {
      "text/plain": [
       "2932"
      ]
     },
     "execution_count": 20,
     "metadata": {},
     "output_type": "execute_result"
    }
   ],
   "source": [
    "#  verificando a quantidade de sobrenomes unicos  \n",
    "df.Surname.nunique()"
   ]
  },
  {
   "cell_type": "markdown",
   "id": "329c5a4e-8dea-45df-bccd-fd5e2bdbeda7",
   "metadata": {},
   "source": [
    "- Temos 10000 registros e apenas 2932 sobrenomes unicos, ou seja, temos sobrenomes repetidos na maioria da base.\n",
    "\n",
    "> **Provocação: Será que famílias com alto poder aquisitivo se mantém mais no banco e familias com menos poder aquisitivo saem mais cedo do banco?**"
   ]
  },
  {
   "cell_type": "code",
   "execution_count": 33,
   "id": "7d553975-d4ff-4b16-880f-c4436ed7867f",
   "metadata": {},
   "outputs": [
    {
     "data": {
      "text/plain": [
       "Surname\n",
       "Smith     32\n",
       "Scott     29\n",
       "Martin    29\n",
       "Walker    28\n",
       "Brown     26\n",
       "Name: count, dtype: int64"
      ]
     },
     "execution_count": 33,
     "metadata": {},
     "output_type": "execute_result"
    }
   ],
   "source": [
    "# Top 5 - Dos sobrenomes mais comuns\n",
    "df.Surname.value_counts().head(5) "
   ]
  },
  {
   "cell_type": "code",
   "execution_count": 43,
   "id": "fbf90465-b6d2-4f86-b9f7-69ca6b22d29b",
   "metadata": {},
   "outputs": [],
   "source": [
    "# Top 5 no df- Dos sobrenomes mais comuns\n",
    "df_top5 = df[df.Surname.isin(list(df.Surname.value_counts().head(5).index))]"
   ]
  },
  {
   "cell_type": "code",
   "execution_count": 45,
   "id": "c8c73f34-37e7-4fd7-8c30-498c724f9095",
   "metadata": {},
   "outputs": [
    {
     "data": {
      "text/html": [
       "<div>\n",
       "<style scoped>\n",
       "    .dataframe tbody tr th:only-of-type {\n",
       "        vertical-align: middle;\n",
       "    }\n",
       "\n",
       "    .dataframe tbody tr th {\n",
       "        vertical-align: top;\n",
       "    }\n",
       "\n",
       "    .dataframe thead th {\n",
       "        text-align: right;\n",
       "    }\n",
       "</style>\n",
       "<table border=\"1\" class=\"dataframe\">\n",
       "  <thead>\n",
       "    <tr style=\"text-align: right;\">\n",
       "      <th></th>\n",
       "      <th>RowNumber</th>\n",
       "      <th>CustomerId</th>\n",
       "      <th>Surname</th>\n",
       "      <th>CreditScore</th>\n",
       "      <th>Geography</th>\n",
       "      <th>Gender</th>\n",
       "      <th>Age</th>\n",
       "      <th>Tenure</th>\n",
       "      <th>Balance</th>\n",
       "      <th>NumOfProducts</th>\n",
       "      <th>HasCrCard</th>\n",
       "      <th>IsActiveMember</th>\n",
       "      <th>EstimatedSalary</th>\n",
       "      <th>Exited</th>\n",
       "    </tr>\n",
       "  </thead>\n",
       "  <tbody>\n",
       "    <tr>\n",
       "      <th>14</th>\n",
       "      <td>15</td>\n",
       "      <td>15600882</td>\n",
       "      <td>Scott</td>\n",
       "      <td>635</td>\n",
       "      <td>Spain</td>\n",
       "      <td>Female</td>\n",
       "      <td>35</td>\n",
       "      <td>7</td>\n",
       "      <td>0.00</td>\n",
       "      <td>2</td>\n",
       "      <td>1</td>\n",
       "      <td>1</td>\n",
       "      <td>65951.65</td>\n",
       "      <td>0</td>\n",
       "    </tr>\n",
       "    <tr>\n",
       "      <th>46</th>\n",
       "      <td>47</td>\n",
       "      <td>15602280</td>\n",
       "      <td>Martin</td>\n",
       "      <td>829</td>\n",
       "      <td>Germany</td>\n",
       "      <td>Female</td>\n",
       "      <td>27</td>\n",
       "      <td>9</td>\n",
       "      <td>112045.67</td>\n",
       "      <td>1</td>\n",
       "      <td>1</td>\n",
       "      <td>1</td>\n",
       "      <td>119708.21</td>\n",
       "      <td>1</td>\n",
       "    </tr>\n",
       "    <tr>\n",
       "      <th>234</th>\n",
       "      <td>235</td>\n",
       "      <td>15704769</td>\n",
       "      <td>Smith</td>\n",
       "      <td>585</td>\n",
       "      <td>France</td>\n",
       "      <td>Female</td>\n",
       "      <td>67</td>\n",
       "      <td>5</td>\n",
       "      <td>113978.97</td>\n",
       "      <td>2</td>\n",
       "      <td>0</td>\n",
       "      <td>1</td>\n",
       "      <td>93146.11</td>\n",
       "      <td>0</td>\n",
       "    </tr>\n",
       "    <tr>\n",
       "      <th>326</th>\n",
       "      <td>327</td>\n",
       "      <td>15601848</td>\n",
       "      <td>Scott</td>\n",
       "      <td>594</td>\n",
       "      <td>France</td>\n",
       "      <td>Male</td>\n",
       "      <td>35</td>\n",
       "      <td>2</td>\n",
       "      <td>0.00</td>\n",
       "      <td>2</td>\n",
       "      <td>1</td>\n",
       "      <td>0</td>\n",
       "      <td>103480.69</td>\n",
       "      <td>0</td>\n",
       "    </tr>\n",
       "    <tr>\n",
       "      <th>345</th>\n",
       "      <td>346</td>\n",
       "      <td>15763859</td>\n",
       "      <td>Brown</td>\n",
       "      <td>840</td>\n",
       "      <td>France</td>\n",
       "      <td>Female</td>\n",
       "      <td>43</td>\n",
       "      <td>7</td>\n",
       "      <td>0.00</td>\n",
       "      <td>2</td>\n",
       "      <td>1</td>\n",
       "      <td>0</td>\n",
       "      <td>90908.95</td>\n",
       "      <td>0</td>\n",
       "    </tr>\n",
       "  </tbody>\n",
       "</table>\n",
       "</div>"
      ],
      "text/plain": [
       "     RowNumber  CustomerId Surname  CreditScore Geography  Gender  Age  \\\n",
       "14          15    15600882   Scott          635     Spain  Female   35   \n",
       "46          47    15602280  Martin          829   Germany  Female   27   \n",
       "234        235    15704769   Smith          585    France  Female   67   \n",
       "326        327    15601848   Scott          594    France    Male   35   \n",
       "345        346    15763859   Brown          840    France  Female   43   \n",
       "\n",
       "     Tenure    Balance  NumOfProducts  HasCrCard  IsActiveMember  \\\n",
       "14        7       0.00              2          1               1   \n",
       "46        9  112045.67              1          1               1   \n",
       "234       5  113978.97              2          0               1   \n",
       "326       2       0.00              2          1               0   \n",
       "345       7       0.00              2          1               0   \n",
       "\n",
       "     EstimatedSalary  Exited  \n",
       "14          65951.65       0  \n",
       "46         119708.21       1  \n",
       "234         93146.11       0  \n",
       "326        103480.69       0  \n",
       "345         90908.95       0  "
      ]
     },
     "execution_count": 45,
     "metadata": {},
     "output_type": "execute_result"
    }
   ],
   "source": [
    "df_top5.head()"
   ]
  },
  {
   "cell_type": "code",
   "execution_count": 46,
   "id": "311300c7-8e89-433f-a013-aeb1f918a4a9",
   "metadata": {},
   "outputs": [
    {
     "data": {
      "text/plain": [
       "Exited\n",
       "0    114\n",
       "1     30\n",
       "Name: count, dtype: int64"
      ]
     },
     "execution_count": 46,
     "metadata": {},
     "output_type": "execute_result"
    }
   ],
   "source": [
    "df_top5.Exited.value_counts()"
   ]
  },
  {
   "cell_type": "code",
   "execution_count": 51,
   "id": "88c0d342-febe-4345-9802-e9b6a6be5d89",
   "metadata": {},
   "outputs": [
    {
     "data": {
      "text/plain": [
       "Exited\n",
       "0    79.166667\n",
       "1    20.833333\n",
       "Name: proportion, dtype: float64"
      ]
     },
     "execution_count": 51,
     "metadata": {},
     "output_type": "execute_result"
    }
   ],
   "source": [
    "df_top5.Exited.value_counts(normalize=True)*100"
   ]
  },
  {
   "cell_type": "markdown",
   "id": "b52a45ae-ae5c-4221-b86c-1f30d633359e",
   "metadata": {},
   "source": [
    "- Se mantém a mesma proporção da base, aparentemente não guarda correlação direta com a variável alvo"
   ]
  },
  {
   "cell_type": "code",
   "execution_count": 30,
   "id": "aaba89ca-6f26-4f34-851c-11a2aaaec643",
   "metadata": {},
   "outputs": [
    {
     "data": {
      "image/png": "[encoded data removed]",
      "text/plain": [
       "<Figure size 640x480 with 1 Axes>"
      ]
     },
     "metadata": {},
     "output_type": "display_data"
    }
   ],
   "source": [
    "plt.title(\"Número de anos que o consumidor está no banco por Exited\");\n",
    "sns.countplot(x = df.Tenure, hue=df.Exited);"
   ]
  },
  {
   "cell_type": "code",
   "execution_count": 18,
   "id": "8c0e5b9d-2d14-4d1a-afaf-c02233ffebd8",
   "metadata": {},
   "outputs": [
    {
     "data": {
      "image/png": "[encoded data removed]",
      "text/plain": [
       "<Figure size 640x480 with 1 Axes>"
      ]
     },
     "metadata": {},
     "output_type": "display_data"
    }
   ],
   "source": [
    "plt.title(\"Número de Produtos vs Score de Crédito\");\n",
    "sns.lineplot(x = df.NumOfProducts, y=df.CreditScore);"
   ]
  },
  {
   "cell_type": "code",
   "execution_count": 29,
   "id": "b38231b8-6d93-46b8-881d-7793ef483f09",
   "metadata": {},
   "outputs": [
    {
     "data": {
      "image/png": "[encoded data removed]",
      "text/plain": [
       "<Figure size 640x480 with 1 Axes>"
      ]
     },
     "metadata": {},
     "output_type": "display_data"
    }
   ],
   "source": [
    "plt.title(\"Quantidade de Membros ativos por Exited\");\n",
    "sns.countplot(x = df.IsActiveMember, hue=df.Exited);"
   ]
  },
  {
   "cell_type": "code",
   "execution_count": 25,
   "id": "55931299-96c9-4ad5-977f-01d453171fa9",
   "metadata": {},
   "outputs": [
    {
     "data": {
      "image/png": "[encoded data removed]",
      "text/plain": [
       "<Figure size 640x480 with 1 Axes>"
      ]
     },
     "metadata": {},
     "output_type": "display_data"
    }
   ],
   "source": [
    "plt.title(\"Tem cartão de crédito?\");\n",
    "sns.countplot(x = df.HasCrCard, hue=df.Exited);"
   ]
  },
  {
   "cell_type": "code",
   "execution_count": 27,
   "id": "a1fe4e52-1c93-4aa8-a0d1-a3f7eace4a18",
   "metadata": {},
   "outputs": [
    {
     "data": {
      "image/png": "[encoded data removed]",
      "text/plain": [
       "<Figure size 640x480 with 1 Axes>"
      ]
     },
     "metadata": {},
     "output_type": "display_data"
    }
   ],
   "source": [
    "plt.title(\"Exited por Região Geográfica\");\n",
    "sns.countplot(x = df.Geography, hue=df.Exited);"
   ]
  },
  {
   "cell_type": "code",
   "execution_count": 16,
   "id": "40722e37-40a2-4bb2-88b3-0404b5c6fa3d",
   "metadata": {},
   "outputs": [
    {
     "data": {
      "image/png": "[encoded data removed]",
      "text/plain": [
       "<Figure size 640x480 with 1 Axes>"
      ]
     },
     "metadata": {},
     "output_type": "display_data"
    }
   ],
   "source": [
    "plt.title(\"Histograma da Idade\");\n",
    "df.Age.hist();"
   ]
  },
  {
   "cell_type": "code",
   "execution_count": 20,
   "id": "b7889048-726e-4f12-8d30-168c43d49cfe",
   "metadata": {},
   "outputs": [
    {
     "data": {
      "image/png": "[encoded data removed]",
      "text/plain": [
       "<Figure size 640x480 with 1 Axes>"
      ]
     },
     "metadata": {},
     "output_type": "display_data"
    }
   ],
   "source": [
    "plt.title(\"Histograma do Balance\");\n",
    "df.Balance.hist();"
   ]
  },
  {
   "cell_type": "code",
   "execution_count": 46,
   "id": "1571f9c6-fcf4-4def-991d-21727ca85189",
   "metadata": {},
   "outputs": [
    {
     "data": {
      "text/plain": [
       "0       0.0\n",
       "3       0.0\n",
       "6       0.0\n",
       "11      0.0\n",
       "12      0.0\n",
       "       ... \n",
       "9989    0.0\n",
       "9992    0.0\n",
       "9994    0.0\n",
       "9995    0.0\n",
       "9997    0.0\n",
       "Name: Balance, Length: 3617, dtype: float64"
      ]
     },
     "execution_count": 46,
     "metadata": {},
     "output_type": "execute_result"
    }
   ],
   "source": [
    "df.Balance[df.Balance == 0]"
   ]
  },
  {
   "cell_type": "code",
   "execution_count": 22,
   "id": "c9cc93c1-2d69-448c-9ee1-de86fad5b506",
   "metadata": {},
   "outputs": [
    {
     "data": {
      "image/png": "[encoded data removed]",
      "text/plain": [
       "<Figure size 640x480 with 1 Axes>"
      ]
     },
     "metadata": {},
     "output_type": "display_data"
    }
   ],
   "source": [
    "plt.title(\"Histograma do Salário Estimado\");\n",
    "df.EstimatedSalary.hist(bins=1000);"
   ]
  },
  {
   "cell_type": "markdown",
   "id": "ec81a048-3f1a-434f-bb45-b95e0ee2e500",
   "metadata": {
    "jp-MarkdownHeadingCollapsed": true
   },
   "source": [
    "# 2. Pré-processamento\n",
    "---"
   ]
  },
  {
   "cell_type": "code",
   "execution_count": 4,
   "id": "cf41a90b-0dcb-4cb0-95f1-e88e7fbb3f54",
   "metadata": {},
   "outputs": [
    {
     "data": {
      "text/html": [
       "<div>\n",
       "<style scoped>\n",
       "    .dataframe tbody tr th:only-of-type {\n",
       "        vertical-align: middle;\n",
       "    }\n",
       "\n",
       "    .dataframe tbody tr th {\n",
       "        vertical-align: top;\n",
       "    }\n",
       "\n",
       "    .dataframe thead th {\n",
       "        text-align: right;\n",
       "    }\n",
       "</style>\n",
       "<table border=\"1\" class=\"dataframe\">\n",
       "  <thead>\n",
       "    <tr style=\"text-align: right;\">\n",
       "      <th></th>\n",
       "      <th>RowNumber</th>\n",
       "      <th>CustomerId</th>\n",
       "      <th>Surname</th>\n",
       "      <th>CreditScore</th>\n",
       "      <th>Geography</th>\n",
       "      <th>Gender</th>\n",
       "      <th>Age</th>\n",
       "      <th>Tenure</th>\n",
       "      <th>Balance</th>\n",
       "      <th>NumOfProducts</th>\n",
       "      <th>HasCrCard</th>\n",
       "      <th>IsActiveMember</th>\n",
       "      <th>EstimatedSalary</th>\n",
       "      <th>Exited</th>\n",
       "    </tr>\n",
       "  </thead>\n",
       "  <tbody>\n",
       "    <tr>\n",
       "      <th>0</th>\n",
       "      <td>1</td>\n",
       "      <td>15634602</td>\n",
       "      <td>Hargrave</td>\n",
       "      <td>619</td>\n",
       "      <td>France</td>\n",
       "      <td>Female</td>\n",
       "      <td>42</td>\n",
       "      <td>2</td>\n",
       "      <td>0.00</td>\n",
       "      <td>1</td>\n",
       "      <td>1</td>\n",
       "      <td>1</td>\n",
       "      <td>101348.88</td>\n",
       "      <td>1</td>\n",
       "    </tr>\n",
       "    <tr>\n",
       "      <th>1</th>\n",
       "      <td>2</td>\n",
       "      <td>15647311</td>\n",
       "      <td>Hill</td>\n",
       "      <td>608</td>\n",
       "      <td>Spain</td>\n",
       "      <td>Female</td>\n",
       "      <td>41</td>\n",
       "      <td>1</td>\n",
       "      <td>83807.86</td>\n",
       "      <td>1</td>\n",
       "      <td>0</td>\n",
       "      <td>1</td>\n",
       "      <td>112542.58</td>\n",
       "      <td>0</td>\n",
       "    </tr>\n",
       "    <tr>\n",
       "      <th>2</th>\n",
       "      <td>3</td>\n",
       "      <td>15619304</td>\n",
       "      <td>Onio</td>\n",
       "      <td>502</td>\n",
       "      <td>France</td>\n",
       "      <td>Female</td>\n",
       "      <td>42</td>\n",
       "      <td>8</td>\n",
       "      <td>159660.80</td>\n",
       "      <td>3</td>\n",
       "      <td>1</td>\n",
       "      <td>0</td>\n",
       "      <td>113931.57</td>\n",
       "      <td>1</td>\n",
       "    </tr>\n",
       "    <tr>\n",
       "      <th>3</th>\n",
       "      <td>4</td>\n",
       "      <td>15701354</td>\n",
       "      <td>Boni</td>\n",
       "      <td>699</td>\n",
       "      <td>France</td>\n",
       "      <td>Female</td>\n",
       "      <td>39</td>\n",
       "      <td>1</td>\n",
       "      <td>0.00</td>\n",
       "      <td>2</td>\n",
       "      <td>0</td>\n",
       "      <td>0</td>\n",
       "      <td>93826.63</td>\n",
       "      <td>0</td>\n",
       "    </tr>\n",
       "    <tr>\n",
       "      <th>4</th>\n",
       "      <td>5</td>\n",
       "      <td>15737888</td>\n",
       "      <td>Mitchell</td>\n",
       "      <td>850</td>\n",
       "      <td>Spain</td>\n",
       "      <td>Female</td>\n",
       "      <td>43</td>\n",
       "      <td>2</td>\n",
       "      <td>125510.82</td>\n",
       "      <td>1</td>\n",
       "      <td>1</td>\n",
       "      <td>1</td>\n",
       "      <td>79084.10</td>\n",
       "      <td>0</td>\n",
       "    </tr>\n",
       "  </tbody>\n",
       "</table>\n",
       "</div>"
      ],
      "text/plain": [
       "   RowNumber  CustomerId   Surname  CreditScore Geography  Gender  Age  \\\n",
       "0          1    15634602  Hargrave          619    France  Female   42   \n",
       "1          2    15647311      Hill          608     Spain  Female   41   \n",
       "2          3    15619304      Onio          502    France  Female   42   \n",
       "3          4    15701354      Boni          699    France  Female   39   \n",
       "4          5    15737888  Mitchell          850     Spain  Female   43   \n",
       "\n",
       "   Tenure    Balance  NumOfProducts  HasCrCard  IsActiveMember  \\\n",
       "0       2       0.00              1          1               1   \n",
       "1       1   83807.86              1          0               1   \n",
       "2       8  159660.80              3          1               0   \n",
       "3       1       0.00              2          0               0   \n",
       "4       2  125510.82              1          1               1   \n",
       "\n",
       "   EstimatedSalary  Exited  \n",
       "0        101348.88       1  \n",
       "1        112542.58       0  \n",
       "2        113931.57       1  \n",
       "3         93826.63       0  \n",
       "4         79084.10       0  "
      ]
     },
     "execution_count": 4,
     "metadata": {},
     "output_type": "execute_result"
    }
   ],
   "source": [
    "df.head()"
   ]
  },
  {
   "cell_type": "code",
   "execution_count": 5,
   "id": "4c6ed395-b1da-4c80-b8a8-e8ca546cfbd0",
   "metadata": {},
   "outputs": [],
   "source": [
    "# Excluindo Colunas que não farão parte do modelo\n",
    "df_process = df.drop(columns=['RowNumber', 'CustomerId', 'Surname', 'Gender'])"
   ]
  },
  {
   "cell_type": "code",
   "execution_count": 6,
   "id": "964d0a07-cad2-4565-b0d0-9b04bd278fca",
   "metadata": {},
   "outputs": [],
   "source": [
    "#Codificando a variável categorica restante \n",
    "#Como temos baixa dimensionalidade e poucas classes utilizarei OneHotEncoding para codificar a variável Geography\n",
    "df_process = pd.get_dummies(data=df_process, columns=['Geography'], dtype='int64')"
   ]
  },
  {
   "cell_type": "code",
   "execution_count": 45,
   "id": "2cdfc6d5-e361-4383-993c-3598c0bc2b8c",
   "metadata": {},
   "outputs": [
    {
     "data": {
      "text/html": [
       "<div>\n",
       "<style scoped>\n",
       "    .dataframe tbody tr th:only-of-type {\n",
       "        vertical-align: middle;\n",
       "    }\n",
       "\n",
       "    .dataframe tbody tr th {\n",
       "        vertical-align: top;\n",
       "    }\n",
       "\n",
       "    .dataframe thead th {\n",
       "        text-align: right;\n",
       "    }\n",
       "</style>\n",
       "<table border=\"1\" class=\"dataframe\">\n",
       "  <thead>\n",
       "    <tr style=\"text-align: right;\">\n",
       "      <th></th>\n",
       "      <th>CreditScore</th>\n",
       "      <th>Age</th>\n",
       "      <th>Tenure</th>\n",
       "      <th>Balance</th>\n",
       "      <th>NumOfProducts</th>\n",
       "      <th>HasCrCard</th>\n",
       "      <th>IsActiveMember</th>\n",
       "      <th>EstimatedSalary</th>\n",
       "      <th>Exited</th>\n",
       "      <th>Geography_France</th>\n",
       "      <th>Geography_Germany</th>\n",
       "      <th>Geography_Spain</th>\n",
       "    </tr>\n",
       "  </thead>\n",
       "  <tbody>\n",
       "    <tr>\n",
       "      <th>0</th>\n",
       "      <td>619</td>\n",
       "      <td>42</td>\n",
       "      <td>2</td>\n",
       "      <td>0.00</td>\n",
       "      <td>1</td>\n",
       "      <td>1</td>\n",
       "      <td>1</td>\n",
       "      <td>101348.88</td>\n",
       "      <td>1</td>\n",
       "      <td>1</td>\n",
       "      <td>0</td>\n",
       "      <td>0</td>\n",
       "    </tr>\n",
       "    <tr>\n",
       "      <th>1</th>\n",
       "      <td>608</td>\n",
       "      <td>41</td>\n",
       "      <td>1</td>\n",
       "      <td>83807.86</td>\n",
       "      <td>1</td>\n",
       "      <td>0</td>\n",
       "      <td>1</td>\n",
       "      <td>112542.58</td>\n",
       "      <td>0</td>\n",
       "      <td>0</td>\n",
       "      <td>0</td>\n",
       "      <td>1</td>\n",
       "    </tr>\n",
       "    <tr>\n",
       "      <th>2</th>\n",
       "      <td>502</td>\n",
       "      <td>42</td>\n",
       "      <td>8</td>\n",
       "      <td>159660.80</td>\n",
       "      <td>3</td>\n",
       "      <td>1</td>\n",
       "      <td>0</td>\n",
       "      <td>113931.57</td>\n",
       "      <td>1</td>\n",
       "      <td>1</td>\n",
       "      <td>0</td>\n",
       "      <td>0</td>\n",
       "    </tr>\n",
       "    <tr>\n",
       "      <th>3</th>\n",
       "      <td>699</td>\n",
       "      <td>39</td>\n",
       "      <td>1</td>\n",
       "      <td>0.00</td>\n",
       "      <td>2</td>\n",
       "      <td>0</td>\n",
       "      <td>0</td>\n",
       "      <td>93826.63</td>\n",
       "      <td>0</td>\n",
       "      <td>1</td>\n",
       "      <td>0</td>\n",
       "      <td>0</td>\n",
       "    </tr>\n",
       "    <tr>\n",
       "      <th>4</th>\n",
       "      <td>850</td>\n",
       "      <td>43</td>\n",
       "      <td>2</td>\n",
       "      <td>125510.82</td>\n",
       "      <td>1</td>\n",
       "      <td>1</td>\n",
       "      <td>1</td>\n",
       "      <td>79084.10</td>\n",
       "      <td>0</td>\n",
       "      <td>0</td>\n",
       "      <td>0</td>\n",
       "      <td>1</td>\n",
       "    </tr>\n",
       "  </tbody>\n",
       "</table>\n",
       "</div>"
      ],
      "text/plain": [
       "   CreditScore  Age  Tenure    Balance  NumOfProducts  HasCrCard  \\\n",
       "0          619   42       2       0.00              1          1   \n",
       "1          608   41       1   83807.86              1          0   \n",
       "2          502   42       8  159660.80              3          1   \n",
       "3          699   39       1       0.00              2          0   \n",
       "4          850   43       2  125510.82              1          1   \n",
       "\n",
       "   IsActiveMember  EstimatedSalary  Exited  Geography_France  \\\n",
       "0               1        101348.88       1                 1   \n",
       "1               1        112542.58       0                 0   \n",
       "2               0        113931.57       1                 1   \n",
       "3               0         93826.63       0                 1   \n",
       "4               1         79084.10       0                 0   \n",
       "\n",
       "   Geography_Germany  Geography_Spain  \n",
       "0                  0                0  \n",
       "1                  0                1  \n",
       "2                  0                0  \n",
       "3                  0                0  \n",
       "4                  0                1  "
      ]
     },
     "execution_count": 45,
     "metadata": {},
     "output_type": "execute_result"
    }
   ],
   "source": [
    "df_process.head()"
   ]
  },
  {
   "cell_type": "code",
   "execution_count": 7,
   "id": "dcb08b4a-7817-4351-9d4f-deefb0ac1198",
   "metadata": {},
   "outputs": [
    {
     "name": "stdout",
     "output_type": "stream",
     "text": [
      "Tamanho do conjunto de treino: (7000, 11)\n",
      "Tamanho do conjunto de validação: (1500, 11)\n",
      "Tamanho do conjunto de teste: (1500, 11)\n"
     ]
    }
   ],
   "source": [
    "X = df_process.drop(columns='Exited').values\n",
    "y = df_process['Exited'].values\n",
    "\n",
    "# Dividindo em treino e conjunto temporário (teste + validação)\n",
    "X_train, X_temp, y_train, y_temp = train_test_split(X, y, test_size=0.3, random_state=42)\n",
    "\n",
    "# Dividindo o conjunto temporário em teste e validação\n",
    "X_val, X_test, y_val, y_test = train_test_split(X_temp, y_temp, test_size=0.5, random_state=42)\n",
    "\n",
    "# Verificar os tamanhos dos conjuntos\n",
    "print(\"Tamanho do conjunto de treino:\", X_train.shape)\n",
    "print(\"Tamanho do conjunto de validação:\", X_val.shape)\n",
    "print(\"Tamanho do conjunto de teste:\", X_test.shape)"
   ]
  },
  {
   "cell_type": "markdown",
   "id": "e576b712-28b0-447c-b1af-5cd5e8d6fe43",
   "metadata": {
    "jp-MarkdownHeadingCollapsed": true
   },
   "source": [
    "# 3. Modelagem com Machine Learning\n",
    "---\n"
   ]
  },
  {
   "cell_type": "code",
   "execution_count": 8,
   "id": "79975784-6a17-4105-8e0b-b2d6b89d3fde",
   "metadata": {},
   "outputs": [
    {
     "name": "stdout",
     "output_type": "stream",
     "text": [
      "Logistic Regression Classification Report:\n",
      "              precision    recall  f1-score   support\n",
      "\n",
      "           0       0.82      0.97      0.89      1216\n",
      "           1       0.42      0.08      0.13       284\n",
      "\n",
      "    accuracy                           0.80      1500\n",
      "   macro avg       0.62      0.53      0.51      1500\n",
      "weighted avg       0.74      0.80      0.75      1500\n",
      "\n",
      "Naive Bayes Classification Report:\n",
      "              precision    recall  f1-score   support\n",
      "\n",
      "           0       0.82      0.97      0.89      1216\n",
      "           1       0.33      0.07      0.11       284\n",
      "\n",
      "    accuracy                           0.80      1500\n",
      "   macro avg       0.57      0.52      0.50      1500\n",
      "weighted avg       0.72      0.80      0.74      1500\n",
      "\n",
      "Random Forest Classification Report:\n",
      "              precision    recall  f1-score   support\n",
      "\n",
      "           0       0.89      0.97      0.93      1216\n",
      "           1       0.78      0.47      0.58       284\n",
      "\n",
      "    accuracy                           0.87      1500\n",
      "   macro avg       0.83      0.72      0.76      1500\n",
      "weighted avg       0.87      0.87      0.86      1500\n",
      "\n",
      "XGBoost Classification Report:\n",
      "              precision    recall  f1-score   support\n",
      "\n",
      "           0       0.88      0.95      0.92      1216\n",
      "           1       0.69      0.45      0.55       284\n",
      "\n",
      "    accuracy                           0.86      1500\n",
      "   macro avg       0.79      0.70      0.73      1500\n",
      "weighted avg       0.85      0.86      0.85      1500\n",
      "\n",
      "Gradient Boosting Classification Report:\n",
      "              precision    recall  f1-score   support\n",
      "\n",
      "           0       0.89      0.97      0.93      1216\n",
      "           1       0.78      0.49      0.60       284\n",
      "\n",
      "    accuracy                           0.88      1500\n",
      "   macro avg       0.83      0.73      0.76      1500\n",
      "weighted avg       0.87      0.88      0.86      1500\n",
      "\n",
      "AdaBoost Classification Report:\n",
      "              precision    recall  f1-score   support\n",
      "\n",
      "           0       0.89      0.95      0.92      1216\n",
      "           1       0.71      0.48      0.58       284\n",
      "\n",
      "    accuracy                           0.87      1500\n",
      "   macro avg       0.80      0.72      0.75      1500\n",
      "weighted avg       0.85      0.87      0.85      1500\n",
      "\n",
      "SVM Classification Report:\n",
      "              precision    recall  f1-score   support\n",
      "\n",
      "           0       0.81      1.00      0.90      1216\n",
      "           1       0.00      0.00      0.00       284\n",
      "\n",
      "    accuracy                           0.81      1500\n",
      "   macro avg       0.41      0.50      0.45      1500\n",
      "weighted avg       0.66      0.81      0.73      1500\n",
      "\n"
     ]
    },
    {
     "data": {
      "image/png": "[encoded data removed]",
      "text/plain": [
       "<Figure size 1000x500 with 1 Axes>"
      ]
     },
     "metadata": {},
     "output_type": "display_data"
    }
   ],
   "source": [
    "# Lista de modelos\n",
    "models = {\n",
    "    \"Logistic Regression\": LogisticRegression(),\n",
    "    \"Naive Bayes\": GaussianNB(),\n",
    "    \"Random Forest\": RandomForestClassifier(),\n",
    "    \"XGBoost\": xgb.XGBClassifier(),\n",
    "    \"Gradient Boosting\": GradientBoostingClassifier(),\n",
    "    \"AdaBoost\": AdaBoostClassifier(),\n",
    "    \"SVM\": SVC()\n",
    "}\n",
    "\n",
    "# Para armazenar os resultados\n",
    "results = {}\n",
    "\n",
    "# Treinar e avaliar cada modelo\n",
    "for model_name, model in models.items():\n",
    "    model.fit(X_train, y_train)\n",
    "    y_train_pred = model.predict(X_train)\n",
    "    y_val_pred = model.predict(X_val)\n",
    "    \n",
    "    train_accuracy = accuracy_score(y_train, y_train_pred)\n",
    "    val_accuracy = accuracy_score(y_val, y_val_pred)\n",
    "    \n",
    "    results[model_name] = {\n",
    "        \"train_accuracy\": train_accuracy,\n",
    "        \"val_accuracy\": val_accuracy,\n",
    "        \"classification_report\": classification_report(y_val, y_val_pred, output_dict=True)\n",
    "    }\n",
    "    \n",
    "    print(f\"{model_name} Classification Report:\")\n",
    "    print(classification_report(y_val, y_val_pred))\n",
    "\n",
    "# Comparar treino e teste\n",
    "train_accuracies = [results[model][\"train_accuracy\"] for model in models.keys()]\n",
    "val_accuracies = [results[model][\"val_accuracy\"] for model in models.keys()]\n",
    "\n",
    "# Gráfico de comparação\n",
    "plt.figure(figsize=(10, 5))\n",
    "x = np.arange(len(models))\n",
    "width = 0.3\n",
    "\n",
    "plt.bar(x - width/2, train_accuracies, width, label='Train Accuracy')\n",
    "plt.bar(x + width/2, val_accuracies, width, label='val Accuracy')\n",
    "\n",
    "plt.xlabel('Models')\n",
    "plt.ylabel('Accuracy')\n",
    "plt.title('Train vs val Acurracy para diferentes modelos')\n",
    "plt.xticks(x, models.keys(), rotation=45)\n",
    "plt.legend()\n",
    "plt.show()\n"
   ]
  },
  {
   "cell_type": "markdown",
   "id": "243b0f1b-a8e5-44eb-837b-e2b1260b06c4",
   "metadata": {},
   "source": [
    "#### Buscando os melhores hiperparametros dos 3 modelos que mais chamaram atenção !!!\n",
    "---\n",
    "\n",
    "- Tendo em vista que as classes estão desbalanceadas no RandomForest variamos o parametro class_weight buscando penalizar mais erros da classe minoritária. Além disso, a métrica de avaliação para análise do melhor modelo foi o recall, pois visamos diminuir os casos em que o modelo preve que o cliente não ia sair, mas ele saiu. "
   ]
  },
  {
   "cell_type": "code",
   "execution_count": 89,
   "id": "eb1a5dfb-53e9-40a0-bbfd-ac1609ca0efa",
   "metadata": {},
   "outputs": [
    {
     "name": "stdout",
     "output_type": "stream",
     "text": [
      "Melhores hiperparametros - GradientBoostingClassifier:\n",
      "{'learning_rate': 0.5, 'max_depth': 75, 'n_estimators': 50}\n",
      "Melhores hiperparametros - AdaBoostClassifier:\n",
      "{'learning_rate': 0.5, 'n_estimators': 100}\n",
      "Melhores hiperparametros - RandomForestClassifier:\n",
      "{'learning_rate': 0.5, 'n_estimators': 100}\n",
      "CPU times: total: 8min 40s\n",
      "Wall time: 9min 19s\n"
     ]
    }
   ],
   "source": [
    "%%time \n",
    "# Definir os modelos que queremos otimizar com GridSearchCV\n",
    "param_grid_gb = {\n",
    "    'n_estimators': [50, 100],\n",
    "    'learning_rate': [0.01, 0.1, 0.5],\n",
    "    'max_depth': [3, 10, 15, 75]\n",
    "}\n",
    "\n",
    "param_grid_ab = {\n",
    "    'n_estimators': [50, 100],\n",
    "    'learning_rate': [0.01, 0.1, 0.5]\n",
    "}\n",
    "\n",
    "param_grid_rf = {\n",
    "    'n_estimators': [50, 100],\n",
    "    'max_depth': [3, 7, 10],\n",
    "    'class_weight':[{0:0.2, 1: 0.8}, {0:0.3, 1: 0.7},{0:0.4, 1: 0.6}]\n",
    "}\n",
    "\n",
    "# Criar instâncias dos modelos\n",
    "gb_model = GradientBoostingClassifier()\n",
    "ab_model = AdaBoostClassifier()\n",
    "rf_model = RandomForestClassifier()\n",
    "\n",
    "# Configurar GridSearchCV para cada modelo\n",
    "grid_search_gb = GridSearchCV(estimator=gb_model, param_grid=param_grid_gb, cv=5, scoring='recall')\n",
    "grid_search_ab = GridSearchCV(estimator=ab_model, param_grid=param_grid_ab, cv=5, scoring='recall')\n",
    "grid_search_rf = GridSearchCV(estimator=rf_model, param_grid=param_grid_rf, cv=5, scoring='recall')\n",
    "\n",
    "# Ajustar os modelos usando GridSearchCV\n",
    "grid_search_gb.fit(X_train, y_train)\n",
    "grid_search_ab.fit(X_train, y_train)\n",
    "grid_search_rf.fit(X_train, y_train)\n",
    "\n",
    "# Obter os melhores parâmetros e estimadores\n",
    "best_gb = grid_search_gb.best_estimator_\n",
    "best_ab = grid_search_ab.best_estimator_\n",
    "best_rf = grid_search_rf.best_estimator_\n",
    "\n",
    "print(\"Melhores hiperparametros - GradientBoostingClassifier:\")\n",
    "print(grid_search_gb.best_params_)\n",
    "print(\"Melhores hiperparametros - AdaBoostClassifier:\")\n",
    "print(grid_search_ab.best_params_)\n",
    "print(\"Melhores hiperparametros - RandomForestClassifier:\")\n",
    "print(grid_search_ab.best_params_)"
   ]
  },
  {
   "cell_type": "markdown",
   "id": "aa910c50-57de-4368-a2aa-9f973a62f092",
   "metadata": {},
   "source": [
    "\n",
    "##### Reavaliando os modelos \n",
    "---"
   ]
  },
  {
   "cell_type": "code",
   "execution_count": 90,
   "id": "2e9ee79b-6a07-48e3-8c28-5c4d4257e9f5",
   "metadata": {},
   "outputs": [],
   "source": [
    "def avaliacao(model, X_train, y_train, X_val, y_val):\n",
    "\n",
    "    y_train_pred = model.predict(X_train)\n",
    "    y_val_pred = model.predict(X_val)\n",
    "    \n",
    "    train_accuracy = accuracy_score(y_train, y_train_pred)\n",
    "    val_accuracy = accuracy_score(y_val, y_val_pred)\n",
    "    \n",
    "    print(f\"{model} - Classification Report:\")\n",
    "    print(classification_report(y_val, y_val_pred))"
   ]
  },
  {
   "cell_type": "code",
   "execution_count": 91,
   "id": "7f80441a-c6b4-4d25-80b8-135205bd5b43",
   "metadata": {},
   "outputs": [
    {
     "name": "stdout",
     "output_type": "stream",
     "text": [
      "GradientBoostingClassifier(learning_rate=0.5, max_depth=75, n_estimators=50) - Classification Report:\n",
      "              precision    recall  f1-score   support\n",
      "\n",
      "           0       0.88      0.89      0.88      1216\n",
      "           1       0.49      0.48      0.49       284\n",
      "\n",
      "    accuracy                           0.81      1500\n",
      "   macro avg       0.69      0.68      0.68      1500\n",
      "weighted avg       0.81      0.81      0.81      1500\n",
      "\n"
     ]
    }
   ],
   "source": [
    "avaliacao(best_gb, X_train, y_train, X_val, y_val)"
   ]
  },
  {
   "cell_type": "code",
   "execution_count": 92,
   "id": "936e454b-3c95-4326-bcde-1efb1c49a1d7",
   "metadata": {},
   "outputs": [
    {
     "name": "stdout",
     "output_type": "stream",
     "text": [
      "AdaBoostClassifier(learning_rate=0.5, n_estimators=100) - Classification Report:\n",
      "              precision    recall  f1-score   support\n",
      "\n",
      "           0       0.89      0.96      0.92      1216\n",
      "           1       0.74      0.48      0.58       284\n",
      "\n",
      "    accuracy                           0.87      1500\n",
      "   macro avg       0.81      0.72      0.75      1500\n",
      "weighted avg       0.86      0.87      0.86      1500\n",
      "\n"
     ]
    }
   ],
   "source": [
    "avaliacao(best_ab, X_train, y_train, X_val, y_val)"
   ]
  },
  {
   "cell_type": "code",
   "execution_count": 93,
   "id": "038c48f7-afa6-49bb-8330-f746fd68dbe4",
   "metadata": {},
   "outputs": [
    {
     "name": "stdout",
     "output_type": "stream",
     "text": [
      "RandomForestClassifier(class_weight={0: 0.2, 1: 0.8}, max_depth=3) - Classification Report:\n",
      "              precision    recall  f1-score   support\n",
      "\n",
      "           0       0.93      0.75      0.83      1216\n",
      "           1       0.41      0.75      0.53       284\n",
      "\n",
      "    accuracy                           0.75      1500\n",
      "   macro avg       0.67      0.75      0.68      1500\n",
      "weighted avg       0.83      0.75      0.77      1500\n",
      "\n"
     ]
    }
   ],
   "source": [
    "avaliacao(best_rf, X_train, y_train, X_val, y_val)"
   ]
  },
  {
   "cell_type": "markdown",
   "id": "a14dc2e7-3211-40f2-a396-26529fea532d",
   "metadata": {},
   "source": [
    "##### Olhando a features importance para poder fazer uma ultima avaliacao \n",
    "---"
   ]
  },
  {
   "cell_type": "code",
   "execution_count": 95,
   "id": "66cca587-d2a2-4bb7-bcc3-56e46172ee4c",
   "metadata": {},
   "outputs": [
    {
     "data": {
      "text/plain": [
       "array([0.00485295, 0.46116046, 0.00169054, 0.06574201, 0.25322214,\n",
       "       0.00069429, 0.1045259 , 0.00542461, 0.01688113, 0.08346159,\n",
       "       0.00234437])"
      ]
     },
     "execution_count": 95,
     "metadata": {},
     "output_type": "execute_result"
    }
   ],
   "source": [
    "best_rf.feature_importances_"
   ]
  },
  {
   "cell_type": "code",
   "execution_count": 106,
   "id": "0b78ea4f-28bd-48ec-b060-bc5fbe44201d",
   "metadata": {},
   "outputs": [
    {
     "name": "stdout",
     "output_type": "stream",
     "text": [
      "Feature: CreditScore, Importance: 0.004852952611952246\n",
      "Feature: Age, Importance: 0.461160462132417\n",
      "Feature: Tenure, Importance: 0.0016905382194500368\n",
      "Feature: Balance, Importance: 0.06574200587254844\n",
      "Feature: NumOfProducts, Importance: 0.25322214346135036\n",
      "Feature: HasCrCard, Importance: 0.0006942933658041417\n",
      "Feature: IsActiveMember, Importance: 0.10452590452211771\n",
      "Feature: EstimatedSalary, Importance: 0.005424609346431928\n",
      "Feature: Geography_France, Importance: 0.01688112994242463\n",
      "Feature: Geography_Germany, Importance: 0.08346159289633956\n",
      "Feature: Geography_Spain, Importance: 0.0023443676291640798\n"
     ]
    }
   ],
   "source": [
    "for feature, importance in zip(df_process.drop(columns='Exited').columns, best_rf.feature_importances_):\n",
    "    print(f'Feature: {feature}, Importance: {importance}')"
   ]
  },
  {
   "cell_type": "code",
   "execution_count": 107,
   "id": "ff670f4d-521d-4485-95fa-a095bb791fc9",
   "metadata": {},
   "outputs": [
    {
     "data": {
      "image/png": "[encoded data removed]",
      "text/plain": [
       "<Figure size 1200x600 with 1 Axes>"
      ]
     },
     "metadata": {},
     "output_type": "display_data"
    }
   ],
   "source": [
    "feature_importance = best_rf.feature_importances_\n",
    "sorted_idx = np.argsort(feature_importance)\n",
    "pos = np.arange(sorted_idx.shape[0]) + 0.5\n",
    "fig = plt.figure(figsize=(12, 6))\n",
    "plt.subplot(1, 2, 1)\n",
    "plt.barh(pos, feature_importance[sorted_idx], align=\"center\")\n",
    "plt.yticks(pos, np.array(df_process.drop(columns='Exited').columns)[sorted_idx])\n",
    "plt.title(\"Feature Importance (MDI)\")\n",
    "plt.show()"
   ]
  },
  {
   "cell_type": "markdown",
   "id": "cdff0775-e68c-4231-ab12-374d594d14f5",
   "metadata": {},
   "source": [
    "##### Retreinando o modelo sem as colunas com baixa importancia\n",
    "---\n",
    "\n",
    "- Dropar: HasCrCard, Tenure, GeographySpain, EstimatedSalary , CreditScore"
   ]
  },
  {
   "cell_type": "code",
   "execution_count": 108,
   "id": "8fb9522d-e968-49b9-8efc-433911227294",
   "metadata": {},
   "outputs": [
    {
     "data": {
      "text/html": [
       "<div>\n",
       "<style scoped>\n",
       "    .dataframe tbody tr th:only-of-type {\n",
       "        vertical-align: middle;\n",
       "    }\n",
       "\n",
       "    .dataframe tbody tr th {\n",
       "        vertical-align: top;\n",
       "    }\n",
       "\n",
       "    .dataframe thead th {\n",
       "        text-align: right;\n",
       "    }\n",
       "</style>\n",
       "<table border=\"1\" class=\"dataframe\">\n",
       "  <thead>\n",
       "    <tr style=\"text-align: right;\">\n",
       "      <th></th>\n",
       "      <th>CreditScore</th>\n",
       "      <th>Age</th>\n",
       "      <th>Tenure</th>\n",
       "      <th>Balance</th>\n",
       "      <th>NumOfProducts</th>\n",
       "      <th>HasCrCard</th>\n",
       "      <th>IsActiveMember</th>\n",
       "      <th>EstimatedSalary</th>\n",
       "      <th>Geography_France</th>\n",
       "      <th>Geography_Germany</th>\n",
       "      <th>Geography_Spain</th>\n",
       "    </tr>\n",
       "  </thead>\n",
       "  <tbody>\n",
       "    <tr>\n",
       "      <th>0</th>\n",
       "      <td>619</td>\n",
       "      <td>42</td>\n",
       "      <td>2</td>\n",
       "      <td>0.00</td>\n",
       "      <td>1</td>\n",
       "      <td>1</td>\n",
       "      <td>1</td>\n",
       "      <td>101348.88</td>\n",
       "      <td>1</td>\n",
       "      <td>0</td>\n",
       "      <td>0</td>\n",
       "    </tr>\n",
       "    <tr>\n",
       "      <th>1</th>\n",
       "      <td>608</td>\n",
       "      <td>41</td>\n",
       "      <td>1</td>\n",
       "      <td>83807.86</td>\n",
       "      <td>1</td>\n",
       "      <td>0</td>\n",
       "      <td>1</td>\n",
       "      <td>112542.58</td>\n",
       "      <td>0</td>\n",
       "      <td>0</td>\n",
       "      <td>1</td>\n",
       "    </tr>\n",
       "    <tr>\n",
       "      <th>2</th>\n",
       "      <td>502</td>\n",
       "      <td>42</td>\n",
       "      <td>8</td>\n",
       "      <td>159660.80</td>\n",
       "      <td>3</td>\n",
       "      <td>1</td>\n",
       "      <td>0</td>\n",
       "      <td>113931.57</td>\n",
       "      <td>1</td>\n",
       "      <td>0</td>\n",
       "      <td>0</td>\n",
       "    </tr>\n",
       "    <tr>\n",
       "      <th>3</th>\n",
       "      <td>699</td>\n",
       "      <td>39</td>\n",
       "      <td>1</td>\n",
       "      <td>0.00</td>\n",
       "      <td>2</td>\n",
       "      <td>0</td>\n",
       "      <td>0</td>\n",
       "      <td>93826.63</td>\n",
       "      <td>1</td>\n",
       "      <td>0</td>\n",
       "      <td>0</td>\n",
       "    </tr>\n",
       "    <tr>\n",
       "      <th>4</th>\n",
       "      <td>850</td>\n",
       "      <td>43</td>\n",
       "      <td>2</td>\n",
       "      <td>125510.82</td>\n",
       "      <td>1</td>\n",
       "      <td>1</td>\n",
       "      <td>1</td>\n",
       "      <td>79084.10</td>\n",
       "      <td>0</td>\n",
       "      <td>0</td>\n",
       "      <td>1</td>\n",
       "    </tr>\n",
       "    <tr>\n",
       "      <th>...</th>\n",
       "      <td>...</td>\n",
       "      <td>...</td>\n",
       "      <td>...</td>\n",
       "      <td>...</td>\n",
       "      <td>...</td>\n",
       "      <td>...</td>\n",
       "      <td>...</td>\n",
       "      <td>...</td>\n",
       "      <td>...</td>\n",
       "      <td>...</td>\n",
       "      <td>...</td>\n",
       "    </tr>\n",
       "    <tr>\n",
       "      <th>9995</th>\n",
       "      <td>771</td>\n",
       "      <td>39</td>\n",
       "      <td>5</td>\n",
       "      <td>0.00</td>\n",
       "      <td>2</td>\n",
       "      <td>1</td>\n",
       "      <td>0</td>\n",
       "      <td>96270.64</td>\n",
       "      <td>1</td>\n",
       "      <td>0</td>\n",
       "      <td>0</td>\n",
       "    </tr>\n",
       "    <tr>\n",
       "      <th>9996</th>\n",
       "      <td>516</td>\n",
       "      <td>35</td>\n",
       "      <td>10</td>\n",
       "      <td>57369.61</td>\n",
       "      <td>1</td>\n",
       "      <td>1</td>\n",
       "      <td>1</td>\n",
       "      <td>101699.77</td>\n",
       "      <td>1</td>\n",
       "      <td>0</td>\n",
       "      <td>0</td>\n",
       "    </tr>\n",
       "    <tr>\n",
       "      <th>9997</th>\n",
       "      <td>709</td>\n",
       "      <td>36</td>\n",
       "      <td>7</td>\n",
       "      <td>0.00</td>\n",
       "      <td>1</td>\n",
       "      <td>0</td>\n",
       "      <td>1</td>\n",
       "      <td>42085.58</td>\n",
       "      <td>1</td>\n",
       "      <td>0</td>\n",
       "      <td>0</td>\n",
       "    </tr>\n",
       "    <tr>\n",
       "      <th>9998</th>\n",
       "      <td>772</td>\n",
       "      <td>42</td>\n",
       "      <td>3</td>\n",
       "      <td>75075.31</td>\n",
       "      <td>2</td>\n",
       "      <td>1</td>\n",
       "      <td>0</td>\n",
       "      <td>92888.52</td>\n",
       "      <td>0</td>\n",
       "      <td>1</td>\n",
       "      <td>0</td>\n",
       "    </tr>\n",
       "    <tr>\n",
       "      <th>9999</th>\n",
       "      <td>792</td>\n",
       "      <td>28</td>\n",
       "      <td>4</td>\n",
       "      <td>130142.79</td>\n",
       "      <td>1</td>\n",
       "      <td>1</td>\n",
       "      <td>0</td>\n",
       "      <td>38190.78</td>\n",
       "      <td>1</td>\n",
       "      <td>0</td>\n",
       "      <td>0</td>\n",
       "    </tr>\n",
       "  </tbody>\n",
       "</table>\n",
       "<p>10000 rows × 11 columns</p>\n",
       "</div>"
      ],
      "text/plain": [
       "      CreditScore  Age  Tenure    Balance  NumOfProducts  HasCrCard  \\\n",
       "0             619   42       2       0.00              1          1   \n",
       "1             608   41       1   83807.86              1          0   \n",
       "2             502   42       8  159660.80              3          1   \n",
       "3             699   39       1       0.00              2          0   \n",
       "4             850   43       2  125510.82              1          1   \n",
       "...           ...  ...     ...        ...            ...        ...   \n",
       "9995          771   39       5       0.00              2          1   \n",
       "9996          516   35      10   57369.61              1          1   \n",
       "9997          709   36       7       0.00              1          0   \n",
       "9998          772   42       3   75075.31              2          1   \n",
       "9999          792   28       4  130142.79              1          1   \n",
       "\n",
       "      IsActiveMember  EstimatedSalary  Geography_France  Geography_Germany  \\\n",
       "0                  1        101348.88                 1                  0   \n",
       "1                  1        112542.58                 0                  0   \n",
       "2                  0        113931.57                 1                  0   \n",
       "3                  0         93826.63                 1                  0   \n",
       "4                  1         79084.10                 0                  0   \n",
       "...              ...              ...               ...                ...   \n",
       "9995               0         96270.64                 1                  0   \n",
       "9996               1        101699.77                 1                  0   \n",
       "9997               1         42085.58                 1                  0   \n",
       "9998               0         92888.52                 0                  1   \n",
       "9999               0         38190.78                 1                  0   \n",
       "\n",
       "      Geography_Spain  \n",
       "0                   0  \n",
       "1                   1  \n",
       "2                   0  \n",
       "3                   0  \n",
       "4                   1  \n",
       "...               ...  \n",
       "9995                0  \n",
       "9996                0  \n",
       "9997                0  \n",
       "9998                0  \n",
       "9999                0  \n",
       "\n",
       "[10000 rows x 11 columns]"
      ]
     },
     "execution_count": 108,
     "metadata": {},
     "output_type": "execute_result"
    }
   ],
   "source": [
    "df_process.drop(columns='Exited')"
   ]
  },
  {
   "cell_type": "code",
   "execution_count": 123,
   "id": "aefa73ce-4081-4bd0-a398-59aa5f8c649d",
   "metadata": {},
   "outputs": [],
   "source": [
    "#para não mexer no conjunto de treino, teste e validação já separados a delação da coluna será feita direto no array numpy\n",
    "\n",
    "# Índices a serem deletados (CreditScore,Tenure, HasCrCard, EstimatedSalary, GeographySpain)\n",
    "indices_to_delete = [0, 2, 5, 7, 10]\n",
    "\n",
    "# Ordenar os índices em ordem decrescente para evitar que a deleção do mais baixo afete o mais alto\n",
    "indices_to_delete.sort(reverse=True)\n",
    "\n",
    "X_train2 = X_train.copy()\n",
    "X_val2 = X_val.copy()\n",
    "\n",
    "# Deletar cada índice\n",
    "for index in indices_to_delete:\n",
    "    X_train2 = np.delete(X_train2, index, axis=1)\n",
    "    X_val2 = np.delete(X_val2, index, axis=1)"
   ]
  },
  {
   "cell_type": "code",
   "execution_count": 131,
   "id": "15274bc1-eab0-47b0-bb9e-3545fbc6e169",
   "metadata": {},
   "outputs": [],
   "source": [
    "best_rf2 = RandomForestClassifier(class_weight={0: 0.2, 1: 0.8}, max_depth=3).fit(X_train2, y_train)"
   ]
  },
  {
   "cell_type": "code",
   "execution_count": 132,
   "id": "13ddd66f-280a-4fa6-bcf4-0b21a8ebea25",
   "metadata": {},
   "outputs": [
    {
     "name": "stdout",
     "output_type": "stream",
     "text": [
      "RandomForestClassifier(class_weight={0: 0.2, 1: 0.8}, max_depth=3) - Classification Report:\n",
      "              precision    recall  f1-score   support\n",
      "\n",
      "           0       0.93      0.78      0.85      1216\n",
      "           1       0.44      0.74      0.55       284\n",
      "\n",
      "    accuracy                           0.77      1500\n",
      "   macro avg       0.68      0.76      0.70      1500\n",
      "weighted avg       0.83      0.77      0.79      1500\n",
      "\n"
     ]
    }
   ],
   "source": [
    "avaliacao(best_rf2, X_train2, y_train, X_val2, y_val)"
   ]
  },
  {
   "cell_type": "markdown",
   "id": "ac2a0372-a267-4fd3-b574-1b25047dcff4",
   "metadata": {},
   "source": [
    "- Escolha final do modelo a ser seguido será esse best_rf2, pois obtivemos uma acurácia maior, praticamente, mantivemos o recall e aumentamos a precisão da classe minoritária.  "
   ]
  },
  {
   "cell_type": "markdown",
   "id": "70d3817c-efc9-4144-8d3f-313e8c15cf0b",
   "metadata": {},
   "source": [
    "# 4. Avaliação dos resultados no conjunto de teste \n",
    "\n",
    "---"
   ]
  },
  {
   "cell_type": "code",
   "execution_count": 134,
   "id": "a2b73b72-9eef-4513-b499-922cf80c1894",
   "metadata": {},
   "outputs": [],
   "source": [
    "#para não mexer no conjunto de treino, teste e validação já separados a delação da coluna será feita direto no array numpy\n",
    "\n",
    "# Índices a serem deletados (CreditScore,Tenure, HasCrCard, EstimatedSalary, GeographySpain)\n",
    "indices_to_delete = [0, 2, 5, 7, 10]\n",
    "\n",
    "# Ordenar os índices em ordem decrescente para evitar que a deleção do mais baixo afete o mais alto\n",
    "indices_to_delete.sort(reverse=True)\n",
    "\n",
    "X_test2 = X_test.copy()\n",
    "\n",
    "# Deletar cada índice\n",
    "for index in indices_to_delete:\n",
    "    X_test2 = np.delete(X_test2, index, axis=1)"
   ]
  },
  {
   "cell_type": "code",
   "execution_count": 136,
   "id": "a3048503-7245-4d27-a8e8-1e24c5fadd88",
   "metadata": {},
   "outputs": [
    {
     "name": "stdout",
     "output_type": "stream",
     "text": [
      "Random Forest Classification Report:\n",
      "              precision    recall  f1-score   support\n",
      "\n",
      "           0       0.92      0.79      0.85      1200\n",
      "           1       0.46      0.73      0.57       300\n",
      "\n",
      "    accuracy                           0.78      1500\n",
      "   macro avg       0.69      0.76      0.71      1500\n",
      "weighted avg       0.83      0.78      0.79      1500\n",
      "\n"
     ]
    },
    {
     "data": {
      "text/plain": [
       "<Figure size 1000x500 with 0 Axes>"
      ]
     },
     "metadata": {},
     "output_type": "display_data"
    },
    {
     "data": {
      "image/png": "[encoded data removed]",
      "text/plain": [
       "<Figure size 600x600 with 2 Axes>"
      ]
     },
     "metadata": {},
     "output_type": "display_data"
    },
    {
     "data": {
      "image/png": "[encoded data removed]",
      "text/plain": [
       "<Figure size 800x600 with 1 Axes>"
      ]
     },
     "metadata": {},
     "output_type": "display_data"
    }
   ],
   "source": [
    "# Treinar e avaliar os modelos otimizados\n",
    "models_best = {\n",
    "    \"Random Forest\": best_rf2\n",
    "}\n",
    "\n",
    "# Para armazenar os resultados\n",
    "results = {}\n",
    "\n",
    "# Treinar e avaliar cada modelo\n",
    "for model_name, model in models_best.items():\n",
    "    y_train_pred = model.predict(X_train2)\n",
    "    y_test_pred = model.predict(X_test2)\n",
    "    \n",
    "    train_accuracy = accuracy_score(y_train, y_train_pred)\n",
    "    test_accuracy = accuracy_score(y_test, y_test_pred)\n",
    "    \n",
    "    results[model_name] = {\n",
    "        \"train_accuracy\": train_accuracy,\n",
    "        \"test_accuracy\": test_accuracy,\n",
    "        \"classification_report\": classification_report(y_test, y_test_pred, output_dict=True),\n",
    "        \"y_test_pred\": y_test_pred\n",
    "    }\n",
    "    \n",
    "    print(f\"{model_name} Classification Report:\")\n",
    "    print(classification_report(y_test, y_test_pred))\n",
    "\n",
    "# Comparar treino e teste\n",
    "train_accuracies = [results[model][\"train_accuracy\"] for model in models_best.keys()]\n",
    "test_accuracies = [results[model][\"test_accuracy\"] for model in models_best.keys()]\n",
    "\n",
    "# Gráfico de comparação de acurácias\n",
    "plt.figure(figsize=(10, 5))\n",
    "x = np.arange(len(models))\n",
    "width = 0.3\n",
    "\n",
    "# Matriz de confusão e Curva ROC para cada modelo\n",
    "for model_name, model in models_best.items():\n",
    "    y_test_pred = results[model_name][\"y_test_pred\"]\n",
    "    \n",
    "    # Matriz de Confusão\n",
    "    cm = confusion_matrix(y_test, y_test_pred)\n",
    "    plt.figure(figsize=(6, 6))\n",
    "    sns.heatmap(cm, annot=True, fmt='d', cmap='Blues', xticklabels=['Negative', 'Positive'], yticklabels=['Negative', 'Positive'])\n",
    "    plt.title(f'Confusion Matrix for {model_name}')\n",
    "    plt.xlabel('Predicted')\n",
    "    plt.ylabel('True')\n",
    "    plt.show()\n",
    "    \n",
    "    # Curva ROC\n",
    "    y_test_prob = model.predict_proba(X_test2)[:, 1] if hasattr(model, \"predict_proba\") else model.decision_function(X_test2)\n",
    "    fpr, tpr, _ = roc_curve(y_test, y_test_prob)\n",
    "    roc_auc = auc(fpr, tpr)\n",
    "    \n",
    "    plt.figure(figsize=(8, 6))\n",
    "    plt.plot(fpr, tpr, color='darkorange', lw=2, label=f'ROC curve (area = {roc_auc:.2f})')\n",
    "    plt.plot([0, 1], [0, 1], color='navy', lw=2, linestyle='--')\n",
    "    plt.xlim([0.0, 1.0])\n",
    "    plt.ylim([0.0, 1.05])\n",
    "    plt.xlabel('False Positive Rate')\n",
    "    plt.ylabel('True Positive Rate')\n",
    "    plt.title(f'Receiver Operating Characteristic for {model_name}')\n",
    "    plt.legend(loc=\"lower right\")\n",
    "    plt.show()"
   ]
  },
  {
   "cell_type": "markdown",
   "id": "107c1c99-ec5c-43ec-9bd8-b62ce4416f02",
   "metadata": {},
   "source": [
    "- Tendo em vista que para o caso do negócio seria mais custoso o modelo errar que o cliente não ia sair, mas ele acabou saindo (Falso Negativo), com as trativas feitas conseguimos otimizar esse parâmetro focando na métrica recall. Nesse sentido, levando em conta a precisão do modelo atual de 1500 perderíamos 300 clientes, dentre os quais, somente 81 ,cerca de 5,4% do total, não teríamos visibilidade de que iria sair. "
   ]
  },
  {
   "cell_type": "markdown",
   "id": "f91aea30-2589-443f-a322-7684777ba92e",
   "metadata": {},
   "source": [
    "## Salvando o modelo e as bases de dados \n",
    "---"
   ]
  },
  {
   "cell_type": "code",
   "execution_count": 142,
   "id": "8f8ac264-081e-4686-a676-ee855afccf10",
   "metadata": {},
   "outputs": [],
   "source": [
    "# Salvando o modelo \n",
    "import pickle\n",
    "filename = 'best_rf2.sav'\n",
    "pickle.dump(best_rf2, open(filename, 'wb'))"
   ]
  },
  {
   "cell_type": "code",
   "execution_count": null,
   "id": "af1f0cc5-3aea-4008-8b79-5af6300c60ed",
   "metadata": {},
   "outputs": [],
   "source": [
    "# lendo o modelo salvo\n",
    "loaded_model = pickle.load(open(filename, 'rb'))"
   ]
  },
  {
   "cell_type": "code",
   "execution_count": 144,
   "id": "83564912-9860-47d4-b0af-52ec0e81e6d6",
   "metadata": {},
   "outputs": [],
   "source": [
    "df_process.to_csv('..//database//df_process.csv')"
   ]
  },
  {
   "cell_type": "code",
   "execution_count": null,
   "id": "fe9f74d1-5c17-4fdb-89c7-14d5932a736e",
   "metadata": {},
   "outputs": [],
   "source": []
  }
 ],
 "metadata": {
  "kernelspec": {
   "display_name": "Python 3 (ipykernel)",
   "language": "python",
   "name": "python3"
  },
  "language_info": {
   "codemirror_mode": {
    "name": "ipython",
    "version": 3
   },
   "file_extension": ".py",
   "mimetype": "text/x-python",
   "name": "python",
   "nbconvert_exporter": "python",
   "pygments_lexer": "ipython3",
   "version": "3.11.4"
  }
 },
 "nbformat": 4,
 "nbformat_minor": 5
}
